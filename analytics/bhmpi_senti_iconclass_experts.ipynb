{
 "cells": [
  {
   "cell_type": "code",
   "execution_count": 1,
   "id": "544dae09-9256-4a5d-b44d-42542b8991f4",
   "metadata": {},
   "outputs": [
    {
     "name": "stdout",
     "output_type": "stream",
     "text": [
      "\n",
      "\u001b[1m[\u001b[0m\u001b[34;49mnotice\u001b[0m\u001b[1;39;49m]\u001b[0m\u001b[39;49m A new release of pip is available: \u001b[0m\u001b[31;49m23.0.1\u001b[0m\u001b[39;49m -> \u001b[0m\u001b[32;49m25.1.1\u001b[0m\n",
      "\u001b[1m[\u001b[0m\u001b[34;49mnotice\u001b[0m\u001b[1;39;49m]\u001b[0m\u001b[39;49m To update, run: \u001b[0m\u001b[32;49mpip install --upgrade pip\u001b[0m\n",
      "Note: you may need to restart the kernel to use updated packages.\n"
     ]
    }
   ],
   "source": [
    "%pip install --quiet pandas pingouin"
   ]
  },
  {
   "cell_type": "code",
   "execution_count": 2,
   "id": "d19ed139-166c-4829-b6c5-8e28821b6085",
   "metadata": {},
   "outputs": [],
   "source": [
    "hourglass = {\n",
    "    \n",
    "}"
   ]
  },
  {
   "cell_type": "markdown",
   "id": "b34999c6-cbae-4b1c-b40f-5f81cd871bf1",
   "metadata": {},
   "source": [
    "## Expert annotation to Pandas"
   ]
  },
  {
   "cell_type": "code",
   "execution_count": 21,
   "id": "2cfb4381-b658-48a6-b3fa-ecdc05955220",
   "metadata": {},
   "outputs": [],
   "source": [
    "import json\n",
    "with open('experts.json') as f:\n",
    "    annotations = json.load(f)"
   ]
  },
  {
   "cell_type": "code",
   "execution_count": 88,
   "id": "d6c50475-6090-4435-b9ea-80923395c1ab",
   "metadata": {},
   "outputs": [
    {
     "data": {
      "text/plain": [
       "[{'ID': '171671643', 'Rater': '64261', 'Rating': 9},\n",
       " {'ID': '171671643', 'Rater': '70243', 'Rating': 6},\n",
       " {'ID': '171675026', 'Rater': '64261', 'Rating': 2},\n",
       " {'ID': '171675026', 'Rater': '70243', 'Rating': 1},\n",
       " {'ID': '171676295', 'Rater': '64261', 'Rating': 2},\n",
       " {'ID': '171676295', 'Rater': '70243', 'Rating': 2},\n",
       " {'ID': '171680270', 'Rater': '64261', 'Rating': 5},\n",
       " {'ID': '171680270', 'Rater': '70243', 'Rating': 9},\n",
       " {'ID': '171681301', 'Rater': '64261', 'Rating': 7},\n",
       " {'ID': '171681301', 'Rater': '70243', 'Rating': 8},\n",
       " {'ID': '171682379', 'Rater': '64261', 'Rating': 9},\n",
       " {'ID': '171682379', 'Rater': '70243', 'Rating': 1},\n",
       " {'ID': '171687684', 'Rater': '64261', 'Rating': 5},\n",
       " {'ID': '171687684', 'Rater': '70243', 'Rating': 5},\n",
       " {'ID': '171688077', 'Rater': '64261', 'Rating': 2},\n",
       " {'ID': '171688077', 'Rater': '70243', 'Rating': 3},\n",
       " {'ID': '171688924', 'Rater': '64261', 'Rating': 5},\n",
       " {'ID': '171688924', 'Rater': '70243', 'Rating': 5},\n",
       " {'ID': '171689365', 'Rater': '64261', 'Rating': 6},\n",
       " {'ID': '171689365', 'Rater': '70243', 'Rating': 4},\n",
       " {'ID': '171690320', 'Rater': '64261', 'Rating': 8},\n",
       " {'ID': '171690320', 'Rater': '70243', 'Rating': 5},\n",
       " {'ID': '171690369', 'Rater': '64261', 'Rating': 5},\n",
       " {'ID': '171690369', 'Rater': '70243', 'Rating': 8},\n",
       " {'ID': '171690438', 'Rater': '64261', 'Rating': 4},\n",
       " {'ID': '171690438', 'Rater': '70243', 'Rating': 1},\n",
       " {'ID': '171690504', 'Rater': '64261', 'Rating': 9},\n",
       " {'ID': '171690504', 'Rater': '70243', 'Rating': 1},\n",
       " {'ID': '171690536', 'Rater': '64261', 'Rating': 1},\n",
       " {'ID': '171690536', 'Rater': '70243', 'Rating': 7},\n",
       " {'ID': '171691322', 'Rater': '64261', 'Rating': 8},\n",
       " {'ID': '171691322', 'Rater': '70243', 'Rating': 2},\n",
       " {'ID': '171691916', 'Rater': '70243', 'Rating': 6},\n",
       " {'ID': '171691916', 'Rater': '64261', 'Rating': 2},\n",
       " {'ID': '171693231', 'Rater': '64261', 'Rating': 5},\n",
       " {'ID': '171693231', 'Rater': '70243', 'Rating': 8},\n",
       " {'ID': '171709288', 'Rater': '64261', 'Rating': 3},\n",
       " {'ID': '171709288', 'Rater': '70243', 'Rating': 6},\n",
       " {'ID': '171709289', 'Rater': '70243', 'Rating': 4},\n",
       " {'ID': '171709289', 'Rater': '64261', 'Rating': 4},\n",
       " {'ID': '171709291', 'Rater': '64261', 'Rating': 1},\n",
       " {'ID': '171709291', 'Rater': '70243', 'Rating': 5},\n",
       " {'ID': '171709292', 'Rater': '64261', 'Rating': 10},\n",
       " {'ID': '171709292', 'Rater': '70243', 'Rating': 4},\n",
       " {'ID': '171711293', 'Rater': '64261', 'Rating': 2},\n",
       " {'ID': '171711293', 'Rater': '70243', 'Rating': 2},\n",
       " {'ID': '171711387', 'Rater': '64261', 'Rating': 8},\n",
       " {'ID': '171711387', 'Rater': '70243', 'Rating': 1}]"
      ]
     },
     "execution_count": 88,
     "metadata": {},
     "output_type": "execute_result"
    }
   ],
   "source": [
    "import pandas as pd\n",
    "import random\n",
    "expert_ratings = []\n",
    "for task in annotations:\n",
    "    for ann in task['annotations']:\n",
    "        expert_ratings.append(\n",
    "            { 'ID' : f\"{task['id']}\", 'Rater' : f\"{ann['completed_by']}\", 'Rating': random.randint(1, 10) } # ann['result'][0]['value']['polygonlabels'][0]\n",
    "        )\n",
    "df = pd.DataFrame(expert_ratings)\n",
    "expert_ratings"
   ]
  },
  {
   "cell_type": "code",
   "execution_count": 90,
   "id": "8957af52-6aa9-4e1f-a67a-b9babaf8a54d",
   "metadata": {},
   "outputs": [],
   "source": [
    "diocane = [\n",
    "{'ID': \"171671643\", 'Rater': \"64261\", 'Rating': 9.6},\n",
    " {'ID': \"171671643\", 'Rater': \"70243\", 'Rating': 8.5},\n",
    " {'ID': \"171675026\", 'Rater': \"64261\", 'Rating': 6.6},\n",
    " {'ID': \"171675026\", 'Rater': \"70243\", 'Rating': 9.0},\n",
    " {'ID': \"171676295\", 'Rater': \"64261\", 'Rating': 9.0},\n",
    " {'ID': \"171676295\", 'Rater': \"70243\", 'Rating': 9.0}\n",
    "]\n",
    "\n",
    "import pingouin as pg\n",
    "icc = pg.intraclass_corr(data=pd.DataFrame(expert_ratings), targets='ID', raters='Rater',\n",
    "                         ratings='Rating')"
   ]
  },
  {
   "cell_type": "code",
   "execution_count": 91,
   "id": "209ef407-f8b2-4ee4-a918-31f6bb4c5e1d",
   "metadata": {},
   "outputs": [
    {
     "data": {
      "text/html": [
       "<div>\n",
       "<style scoped>\n",
       "    .dataframe tbody tr th:only-of-type {\n",
       "        vertical-align: middle;\n",
       "    }\n",
       "\n",
       "    .dataframe tbody tr th {\n",
       "        vertical-align: top;\n",
       "    }\n",
       "\n",
       "    .dataframe thead th {\n",
       "        text-align: right;\n",
       "    }\n",
       "</style>\n",
       "<table border=\"1\" class=\"dataframe\">\n",
       "  <thead>\n",
       "    <tr style=\"text-align: right;\">\n",
       "      <th></th>\n",
       "      <th>Type</th>\n",
       "      <th>Description</th>\n",
       "      <th>ICC</th>\n",
       "      <th>F</th>\n",
       "      <th>df1</th>\n",
       "      <th>df2</th>\n",
       "      <th>pval</th>\n",
       "      <th>CI95%</th>\n",
       "    </tr>\n",
       "  </thead>\n",
       "  <tbody>\n",
       "    <tr>\n",
       "      <th>0</th>\n",
       "      <td>ICC1</td>\n",
       "      <td>Single raters absolute</td>\n",
       "      <td>-0.111493</td>\n",
       "      <td>0.799382</td>\n",
       "      <td>23</td>\n",
       "      <td>24</td>\n",
       "      <td>0.702967</td>\n",
       "      <td>[-0.48, 0.3]</td>\n",
       "    </tr>\n",
       "    <tr>\n",
       "      <th>1</th>\n",
       "      <td>ICC2</td>\n",
       "      <td>Single random raters</td>\n",
       "      <td>-0.116285</td>\n",
       "      <td>0.793254</td>\n",
       "      <td>23</td>\n",
       "      <td>23</td>\n",
       "      <td>0.708421</td>\n",
       "      <td>[-0.5, 0.3]</td>\n",
       "    </tr>\n",
       "    <tr>\n",
       "      <th>2</th>\n",
       "      <td>ICC3</td>\n",
       "      <td>Single fixed raters</td>\n",
       "      <td>-0.115291</td>\n",
       "      <td>0.793254</td>\n",
       "      <td>23</td>\n",
       "      <td>23</td>\n",
       "      <td>0.708421</td>\n",
       "      <td>[-0.49, 0.29]</td>\n",
       "    </tr>\n",
       "    <tr>\n",
       "      <th>3</th>\n",
       "      <td>ICC1k</td>\n",
       "      <td>Average raters absolute</td>\n",
       "      <td>-0.250966</td>\n",
       "      <td>0.799382</td>\n",
       "      <td>23</td>\n",
       "      <td>24</td>\n",
       "      <td>0.702967</td>\n",
       "      <td>[-1.85, 0.46]</td>\n",
       "    </tr>\n",
       "    <tr>\n",
       "      <th>4</th>\n",
       "      <td>ICC2k</td>\n",
       "      <td>Average random raters</td>\n",
       "      <td>-0.263173</td>\n",
       "      <td>0.793254</td>\n",
       "      <td>23</td>\n",
       "      <td>23</td>\n",
       "      <td>0.708421</td>\n",
       "      <td>[-1.98, 0.46]</td>\n",
       "    </tr>\n",
       "    <tr>\n",
       "      <th>5</th>\n",
       "      <td>ICC3k</td>\n",
       "      <td>Average fixed raters</td>\n",
       "      <td>-0.260629</td>\n",
       "      <td>0.793254</td>\n",
       "      <td>23</td>\n",
       "      <td>23</td>\n",
       "      <td>0.708421</td>\n",
       "      <td>[-1.91, 0.45]</td>\n",
       "    </tr>\n",
       "  </tbody>\n",
       "</table>\n",
       "</div>"
      ],
      "text/plain": [
       "    Type              Description       ICC         F  df1  df2      pval  \\\n",
       "0   ICC1   Single raters absolute -0.111493  0.799382   23   24  0.702967   \n",
       "1   ICC2     Single random raters -0.116285  0.793254   23   23  0.708421   \n",
       "2   ICC3      Single fixed raters -0.115291  0.793254   23   23  0.708421   \n",
       "3  ICC1k  Average raters absolute -0.250966  0.799382   23   24  0.702967   \n",
       "4  ICC2k    Average random raters -0.263173  0.793254   23   23  0.708421   \n",
       "5  ICC3k     Average fixed raters -0.260629  0.793254   23   23  0.708421   \n",
       "\n",
       "           CI95%  \n",
       "0   [-0.48, 0.3]  \n",
       "1    [-0.5, 0.3]  \n",
       "2  [-0.49, 0.29]  \n",
       "3  [-1.85, 0.46]  \n",
       "4  [-1.98, 0.46]  \n",
       "5  [-1.91, 0.45]  "
      ]
     },
     "execution_count": 91,
     "metadata": {},
     "output_type": "execute_result"
    }
   ],
   "source": [
    "icc"
   ]
  },
  {
   "cell_type": "code",
   "execution_count": null,
   "id": "bd01123e-2a1e-4720-ba6d-c7622b89d87e",
   "metadata": {},
   "outputs": [],
   "source": []
  }
 ],
 "metadata": {
  "kernelspec": {
   "display_name": "emoclassics",
   "language": "python",
   "name": "emoclassics"
  },
  "language_info": {
   "codemirror_mode": {
    "name": "ipython",
    "version": 3
   },
   "file_extension": ".py",
   "mimetype": "text/x-python",
   "name": "python",
   "nbconvert_exporter": "python",
   "pygments_lexer": "ipython3",
   "version": "3.9.18"
  }
 },
 "nbformat": 4,
 "nbformat_minor": 5
}
